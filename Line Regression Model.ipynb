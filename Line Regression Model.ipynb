{
 "cells": [
  {
   "cell_type": "markdown",
   "id": "7906670b-2eac-489a-8bc4-ebe4774b5156",
   "metadata": {},
   "source": [
    "# Making a Linear Regression Model with basic tools \n"
   ]
  },
  {
   "cell_type": "markdown",
   "id": "b8881fb0-4ee9-48c8-a662-a42ee3dee698",
   "metadata": {},
   "source": [
    "## Imports"
   ]
  },
  {
   "cell_type": "code",
   "execution_count": 1,
   "id": "b2f3ddef-e77e-4fee-a65f-6c2f2bf04209",
   "metadata": {},
   "outputs": [],
   "source": [
    "import numpy as np\n",
    "import torch"
   ]
  },
  {
   "cell_type": "markdown",
   "id": "6becdfd6-3ae1-400b-b7d6-4449143deab8",
   "metadata": {},
   "source": [
    "## Dataset Making"
   ]
  },
  {
   "cell_type": "code",
   "execution_count": 2,
   "id": "4790e95f-8763-49a4-9194-d4148e978767",
   "metadata": {},
   "outputs": [],
   "source": [
    "inputs = np.array([[73,67,43],\n",
    "                   [91,88,64],\n",
    "                   [87,134,58],\n",
    "                   [102,43,37],\n",
    "                   [69,96,70]],dtype = \"float32\")\n",
    "# Making Inputs"
   ]
  },
  {
   "cell_type": "code",
   "execution_count": 3,
   "id": "195cfe15-62d8-4d4a-8461-4ab597bcdcd9",
   "metadata": {},
   "outputs": [],
   "source": [
    "targets = np.array([[56,70],\n",
    "                   [81,101],\n",
    "                   [119,133],\n",
    "                   [22,37],\n",
    "                   [103,119]],dtype = \"float32\")\n",
    "# Making Inputs"
   ]
  },
  {
   "cell_type": "code",
   "execution_count": 4,
   "id": "f09b02da-5add-4569-a433-164c23b137b5",
   "metadata": {},
   "outputs": [
    {
     "name": "stdout",
     "output_type": "stream",
     "text": [
      "tensor([[ 73.,  67.,  43.],\n",
      "        [ 91.,  88.,  64.],\n",
      "        [ 87., 134.,  58.],\n",
      "        [102.,  43.,  37.],\n",
      "        [ 69.,  96.,  70.]])\n",
      "tensor([[ 56.,  70.],\n",
      "        [ 81., 101.],\n",
      "        [119., 133.],\n",
      "        [ 22.,  37.],\n",
      "        [103., 119.]])\n"
     ]
    }
   ],
   "source": [
    "inputs = torch.from_numpy(inputs)\n",
    "targets = torch.from_numpy(targets)\n",
    "print(inputs)\n",
    "print(targets)\n",
    "#Converting to tensors "
   ]
  },
  {
   "cell_type": "code",
   "execution_count": 5,
   "id": "5c9ed1da-8e89-4100-999e-a7cdbe266bff",
   "metadata": {},
   "outputs": [
    {
     "name": "stdout",
     "output_type": "stream",
     "text": [
      "tensor([[-0.8788, -1.6554,  0.0572],\n",
      "        [-0.5096,  1.6055,  0.5612]], requires_grad=True)\n",
      "tensor([-0.3692,  0.8245], requires_grad=True)\n"
     ]
    }
   ],
   "source": [
    "w = torch.randn(2,3,requires_grad=True)\n",
    "b = torch.randn(2,requires_grad=True)\n",
    "print(w)\n",
    "print(b)\n",
    "# Setting random weights"
   ]
  },
  {
   "cell_type": "markdown",
   "id": "eb4fd549-2d7a-4ba2-b891-9d07108340b8",
   "metadata": {},
   "source": [
    "## Making a simple linear regression model "
   ]
  },
  {
   "cell_type": "code",
   "execution_count": 6,
   "id": "994e9e02-ff54-4ec2-8c61-78ca53ab0dd7",
   "metadata": {},
   "outputs": [],
   "source": [
    "def model(x):\n",
    "    return x @ w.t() + b\n",
    "    #making a simple model to generate predictions"
   ]
  },
  {
   "cell_type": "code",
   "execution_count": 7,
   "id": "830c0234-7937-4c96-80c1-8d6e58d3977f",
   "metadata": {},
   "outputs": [
    {
     "name": "stdout",
     "output_type": "stream",
     "text": [
      "tensor([[-172.9693,   95.3260],\n",
      "        [-222.3487,  131.6547],\n",
      "        [-295.3244,  204.1801],\n",
      "        [-159.0671,   38.6475],\n",
      "        [-215.9160,  159.0775]], grad_fn=<AddBackward0>)\n"
     ]
    }
   ],
   "source": [
    "preds = model(inputs)\n",
    "print(preds)"
   ]
  },
  {
   "cell_type": "code",
   "execution_count": 8,
   "id": "72c948a3-a881-4c06-90a5-e7a812117c45",
   "metadata": {},
   "outputs": [],
   "source": [
    "def predict():\n",
    "    preds = model(inputs)\n",
    "    print(preds)"
   ]
  },
  {
   "cell_type": "markdown",
   "id": "ed235122-5df8-43f2-bb84-72cd933018b1",
   "metadata": {},
   "source": [
    "## Making a Mean Square Error or Loss Function"
   ]
  },
  {
   "cell_type": "code",
   "execution_count": 9,
   "id": "42ecfbee-4c91-4de6-912a-206839f51da9",
   "metadata": {},
   "outputs": [],
   "source": [
    "def mse(t1,t2):\n",
    "    diff = t1-t2\n",
    "    return torch.sum(diff * diff)/diff.numel()\n",
    "    #Making it a reusable function "
   ]
  },
  {
   "cell_type": "code",
   "execution_count": 10,
   "id": "833ad913-d3fd-4de9-ae5c-413c4109ba7a",
   "metadata": {},
   "outputs": [
    {
     "name": "stdout",
     "output_type": "stream",
     "text": [
      "tensor(45886.1406, grad_fn=<DivBackward0>)\n"
     ]
    }
   ],
   "source": [
    "loss = mse(preds,targets)\n",
    "print(loss)  #loss before training "
   ]
  },
  {
   "cell_type": "markdown",
   "id": "9e7c5887-0adb-4987-a445-7f4f6a3dd775",
   "metadata": {},
   "source": [
    "## Result Function"
   ]
  },
  {
   "cell_type": "code",
   "execution_count": 11,
   "id": "d0274258-e406-4f08-923a-be6ff4ab798f",
   "metadata": {},
   "outputs": [
    {
     "name": "stdout",
     "output_type": "stream",
     "text": [
      "Predictions\n",
      "tensor([[-172.9693,   95.3260],\n",
      "        [-222.3487,  131.6547],\n",
      "        [-295.3244,  204.1801],\n",
      "        [-159.0671,   38.6475],\n",
      "        [-215.9160,  159.0775]], grad_fn=<AddBackward0>)\n",
      "Target\n",
      "tensor([[ 56.,  70.],\n",
      "        [ 81., 101.],\n",
      "        [119., 133.],\n",
      "        [ 22.,  37.],\n",
      "        [103., 119.]])\n",
      "loss:  tensor(45886.1406, grad_fn=<DivBackward0>)\n"
     ]
    }
   ],
   "source": [
    "preds = model(inputs)\n",
    "def result():\n",
    "    print(\"Predictions\")\n",
    "    print(preds)\n",
    "    print(\"Target\")\n",
    "    print(targets)\n",
    "    print(\"loss: \" , mse(preds,targets)) #For checking the loss\n",
    "result()\n",
    "#First Output "
   ]
  },
  {
   "cell_type": "markdown",
   "id": "6c152e0e-c573-4f7e-bb4e-30564d11dd02",
   "metadata": {},
   "source": [
    "## Computing the gradients"
   ]
  },
  {
   "cell_type": "code",
   "execution_count": 12,
   "id": "13f30b84-db9f-474a-a65b-26fc214155f0",
   "metadata": {},
   "outputs": [],
   "source": [
    "loss.backward()  #Calculating the derivatives of b and w that are in loss \n",
    "#the loss is now a quadretic function as there is squaring and etc, going on (in the model)"
   ]
  },
  {
   "cell_type": "code",
   "execution_count": 13,
   "id": "48133acb-18e1-43b9-b4ee-ff9f839ff71d",
   "metadata": {},
   "outputs": [
    {
     "name": "stdout",
     "output_type": "stream",
     "text": [
      "tensor([[-0.8788, -1.6554,  0.0572],\n",
      "        [-0.5096,  1.6055,  0.5612]], requires_grad=True)\n",
      "tensor([[-24167.9531, -27191.3828, -16462.8828],\n",
      "        [  2752.8875,   3570.1736,   2009.1492]])\n"
     ]
    }
   ],
   "source": [
    "print(w)\n",
    "print(w.grad)"
   ]
  },
  {
   "cell_type": "code",
   "execution_count": 14,
   "id": "920aa914-31f0-4dbc-9b16-b189ab30075e",
   "metadata": {},
   "outputs": [
    {
     "name": "stdout",
     "output_type": "stream",
     "text": [
      "tensor([[0., 0., 0.],\n",
      "        [0., 0., 0.]])\n",
      "tensor([0., 0.])\n"
     ]
    }
   ],
   "source": [
    "w.grad.zero_()\n",
    "b.grad.zero_()\n",
    "print(w.grad)\n",
    "print(b.grad)\n",
    "#setting grads to zero"
   ]
  },
  {
   "cell_type": "code",
   "execution_count": 15,
   "id": "fe0cec57-4aa3-478e-84e5-a978e864848a",
   "metadata": {},
   "outputs": [
    {
     "name": "stdout",
     "output_type": "stream",
     "text": [
      "tensor([[-172.9693,   95.3260],\n",
      "        [-222.3487,  131.6547],\n",
      "        [-295.3244,  204.1801],\n",
      "        [-159.0671,   38.6475],\n",
      "        [-215.9160,  159.0775]], grad_fn=<AddBackward0>)\n"
     ]
    }
   ],
   "source": [
    "predict()"
   ]
  },
  {
   "cell_type": "code",
   "execution_count": 16,
   "id": "55ba25c4-5f10-41de-866a-f9496d2da6b6",
   "metadata": {},
   "outputs": [
    {
     "name": "stdout",
     "output_type": "stream",
     "text": [
      "tensor(45886.1406, grad_fn=<DivBackward0>)\n"
     ]
    }
   ],
   "source": [
    "loss = mse(preds,targets)\n",
    "print(loss)  #loss before training "
   ]
  },
  {
   "cell_type": "code",
   "execution_count": 17,
   "id": "7ec87894-f7cd-45dd-bb98-0f29ed8a2035",
   "metadata": {},
   "outputs": [
    {
     "name": "stdout",
     "output_type": "stream",
     "text": [
      "tensor([[-24167.9531, -27191.3828, -16462.8828],\n",
      "        [  2752.8875,   3570.1736,   2009.1492]])\n",
      "tensor([-289.3251,   33.7772])\n"
     ]
    }
   ],
   "source": [
    "loss.backward()\n",
    "print(w.grad)\n",
    "print(b.grad)"
   ]
  },
  {
   "cell_type": "markdown",
   "id": "eeb43a5d-1050-482f-a2a9-c90f73dba3d8",
   "metadata": {},
   "source": [
    "## Adjusting Weights"
   ]
  },
  {
   "cell_type": "code",
   "execution_count": 18,
   "id": "5fdc6f76-117d-4bed-af79-0271cc1aafb8",
   "metadata": {},
   "outputs": [],
   "source": [
    "with torch.no_grad(): #stops tracking the grad as we make the change to it\n",
    "    w -= w.grad * 1e-5\n",
    "    b -= b.grad * 1e-5\n",
    "    w.grad.zero_()\n",
    "    b.grad.zero_()"
   ]
  },
  {
   "cell_type": "code",
   "execution_count": 19,
   "id": "e83cb067-a352-404e-8467-481ed3035184",
   "metadata": {},
   "outputs": [
    {
     "name": "stdout",
     "output_type": "stream",
     "text": [
      "tensor([[-0.6371, -1.3835,  0.2218],\n",
      "        [-0.5371,  1.5698,  0.5411]], requires_grad=True)\n",
      "tensor([-0.3663,  0.8242], requires_grad=True)\n"
     ]
    }
   ],
   "source": [
    "print(w)\n",
    "print(b)"
   ]
  },
  {
   "cell_type": "code",
   "execution_count": 20,
   "id": "4208f8e1-672f-4ad4-84fd-04688075c8df",
   "metadata": {},
   "outputs": [
    {
     "name": "stdout",
     "output_type": "stream",
     "text": [
      "tensor(45886.1406, grad_fn=<DivBackward0>)\n"
     ]
    }
   ],
   "source": [
    "loss = mse(preds,targets)\n",
    "print(loss)  #loss after training for once"
   ]
  },
  {
   "cell_type": "markdown",
   "id": "106bbed6-b776-4bfb-bd66-3075a91bd0b7",
   "metadata": {},
   "source": [
    "## Training the Model"
   ]
  },
  {
   "cell_type": "code",
   "execution_count": 21,
   "id": "a31d2a9f-dc5a-4727-9969-f91b67a45979",
   "metadata": {},
   "outputs": [],
   "source": [
    "#Train for 1000 Epochs\n",
    "for i in range(1000):\n",
    "    preds = model(inputs)\n",
    "    loss = mse(preds,targets)\n",
    "    loss.backward()\n",
    "    with torch.no_grad(): #stops tracking the grad as we make the change to it\n",
    "        w -= w.grad * 1e-5\n",
    "        b -= b.grad * 1e-5\n",
    "        w.grad.zero_()\n",
    "        b.grad.zero_()"
   ]
  },
  {
   "cell_type": "markdown",
   "id": "5e6ef313-d0d5-46ea-aa5f-e7fb71857b59",
   "metadata": {},
   "source": [
    "## Result"
   ]
  },
  {
   "cell_type": "code",
   "execution_count": 22,
   "id": "bfa73f43-6224-499a-a267-93961b0806d2",
   "metadata": {},
   "outputs": [
    {
     "name": "stdout",
     "output_type": "stream",
     "text": [
      "loss:  tensor(4.0899, grad_fn=<DivBackward0>)\n"
     ]
    }
   ],
   "source": [
    "print(\"loss: \" , mse(preds,targets)) #loss after training for 1000 Epoch "
   ]
  },
  {
   "cell_type": "code",
   "execution_count": 23,
   "id": "b5267ee4-fab0-44a1-acc1-2db23d981209",
   "metadata": {},
   "outputs": [
    {
     "name": "stdout",
     "output_type": "stream",
     "text": [
      "Predictions\n",
      "tensor([[ 56.9865,  70.6170],\n",
      "        [ 83.4022,  99.0778],\n",
      "        [116.2607, 136.0875],\n",
      "        [ 20.5276,  37.8199],\n",
      "        [104.2516, 116.0611]], grad_fn=<AddBackward0>)\n",
      "Target\n",
      "tensor([[ 56.,  70.],\n",
      "        [ 81., 101.],\n",
      "        [119., 133.],\n",
      "        [ 22.,  37.],\n",
      "        [103., 119.]])\n",
      "loss:  tensor(4.0899, grad_fn=<DivBackward0>)\n"
     ]
    }
   ],
   "source": [
    "result()"
   ]
  },
  {
   "cell_type": "markdown",
   "id": "c262d9c5-075a-4658-bacf-ab88c8114df9",
   "metadata": {},
   "source": [
    "-\n",
    "\n",
    "# Making the same Model using tools from Torch\n",
    "\n",
    "-"
   ]
  },
  {
   "cell_type": "code",
   "execution_count": 24,
   "id": "8348c95b-1149-4eb6-9085-7e52b16ab32f",
   "metadata": {},
   "outputs": [],
   "source": [
    "import torch.nn as nn"
   ]
  },
  {
   "cell_type": "code",
   "execution_count": 25,
   "id": "f0a258e9-bea2-45a2-aa5a-678265434879",
   "metadata": {},
   "outputs": [],
   "source": [
    "inputs = np.array([\n",
    "    [87, 134, 58],[102, 43, 37],[91, 88, 64],[69, 96, 70],[73, 67, 43],\n",
    "    [73, 67, 43],[91, 88, 64],[69, 96, 70],[87, 134, 58],[102, 43, 37],\n",
    "    [102, 43, 37],[87, 134, 58],[91, 88, 64],[69, 96, 70],[73, 67, 43],\n",
    "    [69, 96, 70],[91, 88, 64],[102, 43, 37],[87, 134, 58],[73, 67, 43],\n",
    "    [91, 88, 64],[102, 43, 37],[73, 67, 43],[69, 96, 70],[87, 134, 58]]\n",
    "                  ,dtype=\"float32\")\n",
    "\n",
    "targets = np.array([\n",
    "    [119, 133],[22, 37],[81, 101],[103, 119],[56, 70],    \n",
    "    [56, 70],[81, 101],[103, 119],[119, 133],[22, 37],    \n",
    "    [22, 37],[119, 133],[81, 101],[103, 119],[56, 70],    \n",
    "    [103, 119],[81, 101],[22, 37],[119, 133],[56, 70],    \n",
    "    [81, 101],[22, 37],[56, 70],[103, 119],[119, 133]]\n",
    "                   , dtype=\"float32\")"
   ]
  },
  {
   "cell_type": "code",
   "execution_count": 26,
   "id": "d1898771-4c6e-4c2d-af1c-93df7784eb3a",
   "metadata": {},
   "outputs": [],
   "source": [
    "inputs = torch.from_numpy(inputs)\n",
    "targets = torch.from_numpy(targets)"
   ]
  },
  {
   "cell_type": "code",
   "execution_count": 27,
   "id": "d50a1d13-d2f2-4102-8c3f-e823d9af5c6d",
   "metadata": {},
   "outputs": [],
   "source": [
    "from torch.utils.data import TensorDataset"
   ]
  },
  {
   "cell_type": "code",
   "execution_count": 28,
   "id": "8b515492-d699-4d4d-b907-253b629a9560",
   "metadata": {},
   "outputs": [
    {
     "data": {
      "text/plain": [
       "(tensor([[ 87., 134.,  58.],\n",
       "         [102.,  43.,  37.],\n",
       "         [ 91.,  88.,  64.]]),\n",
       " tensor([[119., 133.],\n",
       "         [ 22.,  37.],\n",
       "         [ 81., 101.]]))"
      ]
     },
     "execution_count": 28,
     "metadata": {},
     "output_type": "execute_result"
    }
   ],
   "source": [
    "train_ds = TensorDataset(inputs,targets)\n",
    "train_ds[0:3]"
   ]
  },
  {
   "cell_type": "code",
   "execution_count": 29,
   "id": "606cbbf1-9d95-47df-b08b-be65e48479e4",
   "metadata": {},
   "outputs": [],
   "source": [
    "from torch.utils.data import DataLoader"
   ]
  },
  {
   "cell_type": "code",
   "execution_count": 30,
   "id": "738ee795-c0bb-4780-8799-b5d78ffa1df2",
   "metadata": {},
   "outputs": [],
   "source": [
    "batch_size = 5\n",
    "train_dl = DataLoader(train_ds,batch_size,shuffle=True)"
   ]
  },
  {
   "cell_type": "code",
   "execution_count": 31,
   "id": "2d6b7be5-e76b-473f-904e-57943922dd17",
   "metadata": {},
   "outputs": [
    {
     "name": "stdout",
     "output_type": "stream",
     "text": [
      "tensor([[ 87., 134.,  58.],\n",
      "        [ 73.,  67.,  43.],\n",
      "        [102.,  43.,  37.],\n",
      "        [ 91.,  88.,  64.],\n",
      "        [ 91.,  88.,  64.]])\n",
      "tensor([[119., 133.],\n",
      "        [ 56.,  70.],\n",
      "        [ 22.,  37.],\n",
      "        [ 81., 101.],\n",
      "        [ 81., 101.]])\n"
     ]
    }
   ],
   "source": [
    "for xb, yb in train_dl:\n",
    "    print(xb)\n",
    "    print(yb)\n",
    "    break"
   ]
  },
  {
   "cell_type": "code",
   "execution_count": 32,
   "id": "a1db6b7d-de64-4f91-9322-86c59db69b6e",
   "metadata": {},
   "outputs": [
    {
     "name": "stdout",
     "output_type": "stream",
     "text": [
      "Parameter containing:\n",
      "tensor([[ 0.0343, -0.3308, -0.0394],\n",
      "        [-0.3331, -0.2036,  0.3865]], requires_grad=True)\n",
      "Parameter containing:\n",
      "tensor([-0.5757,  0.0488], requires_grad=True)\n"
     ]
    }
   ],
   "source": [
    "#Define Model\n",
    "model = nn.Linear(3,2)\n",
    "print(model.weight)\n",
    "print(model.bias)"
   ]
  },
  {
   "cell_type": "code",
   "execution_count": 33,
   "id": "b356f4e9-85e4-4795-a6d0-abd266334778",
   "metadata": {},
   "outputs": [
    {
     "data": {
      "text/plain": [
       "[Parameter containing:\n",
       " tensor([[ 0.0343, -0.3308, -0.0394],\n",
       "         [-0.3331, -0.2036,  0.3865]], requires_grad=True),\n",
       " Parameter containing:\n",
       " tensor([-0.5757,  0.0488], requires_grad=True)]"
      ]
     },
     "execution_count": 33,
     "metadata": {},
     "output_type": "execute_result"
    }
   ],
   "source": [
    "list(model.parameters())"
   ]
  },
  {
   "cell_type": "code",
   "execution_count": 34,
   "id": "9beb6240-7db9-424b-b2da-9a555d869445",
   "metadata": {},
   "outputs": [
    {
     "data": {
      "text/plain": [
       "tensor([[-44.2144, -33.7955],\n",
       "        [-12.7649, -28.3775],\n",
       "        [-29.0948, -23.4414],\n",
       "        [-32.7323, -15.4241],\n",
       "        [-21.9359, -21.2871],\n",
       "        [-21.9359, -21.2871],\n",
       "        [-29.0948, -23.4414],\n",
       "        [-32.7323, -15.4241],\n",
       "        [-44.2144, -33.7955],\n",
       "        [-12.7649, -28.3775],\n",
       "        [-12.7649, -28.3775],\n",
       "        [-44.2144, -33.7955],\n",
       "        [-29.0948, -23.4414],\n",
       "        [-32.7323, -15.4241],\n",
       "        [-21.9359, -21.2871],\n",
       "        [-32.7323, -15.4241],\n",
       "        [-29.0948, -23.4414],\n",
       "        [-12.7649, -28.3775],\n",
       "        [-44.2144, -33.7955],\n",
       "        [-21.9359, -21.2871],\n",
       "        [-29.0948, -23.4414],\n",
       "        [-12.7649, -28.3775],\n",
       "        [-21.9359, -21.2871],\n",
       "        [-32.7323, -15.4241],\n",
       "        [-44.2144, -33.7955]], grad_fn=<AddmmBackward0>)"
      ]
     },
     "execution_count": 34,
     "metadata": {},
     "output_type": "execute_result"
    }
   ],
   "source": [
    "#Generate Predictions\n",
    "preds = model(inputs)\n",
    "preds"
   ]
  },
  {
   "cell_type": "markdown",
   "id": "d2ff4047-f450-4f02-85c7-60b7140d8e97",
   "metadata": {},
   "source": [
    "## Defining Loss Function"
   ]
  },
  {
   "cell_type": "code",
   "execution_count": 35,
   "id": "142b77ac-9c36-41e4-8f03-bfb568405a9f",
   "metadata": {},
   "outputs": [],
   "source": [
    "import torch.nn.functional as F"
   ]
  },
  {
   "cell_type": "code",
   "execution_count": 36,
   "id": "be295e04-0d70-4619-87fc-57aa8022b5ee",
   "metadata": {},
   "outputs": [],
   "source": [
    "loss_fn = F.mse_loss"
   ]
  },
  {
   "cell_type": "code",
   "execution_count": 37,
   "id": "fe47c9f8-ebcd-41a7-a325-a71ddc3f6a22",
   "metadata": {},
   "outputs": [
    {
     "name": "stdout",
     "output_type": "stream",
     "text": [
      "tensor(13844.9434, grad_fn=<MseLossBackward0>)\n"
     ]
    }
   ],
   "source": [
    "loss = loss_fn(model(inputs),targets)\n",
    "print(loss)"
   ]
  },
  {
   "cell_type": "markdown",
   "id": "b9a03eae-b154-470f-beb1-8b9a4963ebb3",
   "metadata": {},
   "source": [
    "## Define Optimizer"
   ]
  },
  {
   "cell_type": "code",
   "execution_count": 38,
   "id": "b8ca0a1b-8751-455f-a3a4-2404112e342a",
   "metadata": {},
   "outputs": [],
   "source": [
    "#SGD Stocastic Gradient Descnet \n",
    "opt = torch.optim.SGD(model.parameters(), lr=1e-5)"
   ]
  },
  {
   "cell_type": "code",
   "execution_count": 39,
   "id": "ea790ed3-30aa-4992-8127-ed7c1bcb44e0",
   "metadata": {},
   "outputs": [],
   "source": [
    "#Utility function to train the model\n",
    "def fit(num_epochs, model,loss_fn,opt,train_dl):\n",
    "    #Repeat for given number of epochs\n",
    "    for epoch in range(num_epochs):\n",
    "        #Train with batches of data\n",
    "        for xb, yb in train_dl:\n",
    "            #Generate Predicitons\n",
    "            pred = model(xb)\n",
    "            #Calculate loss\n",
    "            loss = loss_fn(pred,yb)\n",
    "            #Compute Gradient\n",
    "            loss.backward()\n",
    "            #Update Parameters using gradients\n",
    "            opt.step()\n",
    "            #Reset the gradients\n",
    "            opt.zero_grad()\n",
    "        #print the progress\n",
    "        if (epoch + 1) % 10 == 0:\n",
    "            print('Epoch [{}/{}], Loss : {:.4f}'.format(epoch+1,num_epochs,loss))"
   ]
  },
  {
   "cell_type": "markdown",
   "id": "b6aa584e-7283-40b8-b1c1-2f67b9e8d71a",
   "metadata": {},
   "source": [
    "## Training The Model"
   ]
  },
  {
   "cell_type": "code",
   "execution_count": 44,
   "id": "91117f0e-400e-4b17-80ed-1621811fde4f",
   "metadata": {},
   "outputs": [
    {
     "name": "stdout",
     "output_type": "stream",
     "text": [
      "Epoch [10/100], Loss : 3.0441\n",
      "Epoch [20/100], Loss : 1.3753\n",
      "Epoch [30/100], Loss : 0.8625\n",
      "Epoch [40/100], Loss : 1.1602\n",
      "Epoch [50/100], Loss : 1.2218\n",
      "Epoch [60/100], Loss : 1.2597\n",
      "Epoch [70/100], Loss : 0.9645\n",
      "Epoch [80/100], Loss : 1.0597\n",
      "Epoch [90/100], Loss : 1.0145\n",
      "Epoch [100/100], Loss : 0.3672\n"
     ]
    }
   ],
   "source": [
    "fit(100,model,loss_fn,opt,train_dl)"
   ]
  },
  {
   "cell_type": "markdown",
   "id": "55e1ec71-cb3d-4b79-9123-132c9a452647",
   "metadata": {},
   "source": [
    "## Result"
   ]
  },
  {
   "cell_type": "code",
   "execution_count": 41,
   "id": "02ac09e0-c9f6-43c7-93e0-0121da60c4b2",
   "metadata": {},
   "outputs": [],
   "source": [
    "def result_(p,t):\n",
    "    print(\"Predictions\")\n",
    "    print(p)\n",
    "    print(\"Target\")\n",
    "    print(t)\n",
    "    print(\"loss: \" , mse(p,t))"
   ]
  },
  {
   "cell_type": "code",
   "execution_count": 45,
   "id": "20f18a4d-6fef-442a-a7a0-63ee7d028604",
   "metadata": {},
   "outputs": [
    {
     "name": "stdout",
     "output_type": "stream",
     "text": [
      "Predictions\n",
      "tensor([[119.8627, 133.3568],\n",
      "        [ 21.4244,  37.1318],\n",
      "        [ 81.7054, 100.4782],\n",
      "        [100.7359, 118.7447],\n",
      "        [ 57.1335,  70.3438],\n",
      "        [ 57.1335,  70.3438],\n",
      "        [ 81.7054, 100.4782],\n",
      "        [100.7359, 118.7447],\n",
      "        [119.8627, 133.3568],\n",
      "        [ 21.4244,  37.1318],\n",
      "        [ 21.4244,  37.1318],\n",
      "        [119.8627, 133.3568],\n",
      "        [ 81.7054, 100.4782],\n",
      "        [100.7359, 118.7447],\n",
      "        [ 57.1335,  70.3438],\n",
      "        [100.7359, 118.7447],\n",
      "        [ 81.7054, 100.4782],\n",
      "        [ 21.4244,  37.1318],\n",
      "        [119.8627, 133.3568],\n",
      "        [ 57.1335,  70.3438],\n",
      "        [ 81.7054, 100.4782],\n",
      "        [ 21.4244,  37.1318],\n",
      "        [ 57.1335,  70.3438],\n",
      "        [100.7359, 118.7447],\n",
      "        [119.8627, 133.3568]], grad_fn=<AddmmBackward0>)\n",
      "Target\n",
      "tensor([[119., 133.],\n",
      "        [ 22.,  37.],\n",
      "        [ 81., 101.],\n",
      "        [103., 119.],\n",
      "        [ 56.,  70.],\n",
      "        [ 56.,  70.],\n",
      "        [ 81., 101.],\n",
      "        [103., 119.],\n",
      "        [119., 133.],\n",
      "        [ 22.,  37.],\n",
      "        [ 22.,  37.],\n",
      "        [119., 133.],\n",
      "        [ 81., 101.],\n",
      "        [103., 119.],\n",
      "        [ 56.,  70.],\n",
      "        [103., 119.],\n",
      "        [ 81., 101.],\n",
      "        [ 22.,  37.],\n",
      "        [119., 133.],\n",
      "        [ 56.,  70.],\n",
      "        [ 81., 101.],\n",
      "        [ 22.,  37.],\n",
      "        [ 56.,  70.],\n",
      "        [103., 119.],\n",
      "        [119., 133.]])\n",
      "loss:  tensor(0.8585, grad_fn=<DivBackward0>)\n"
     ]
    }
   ],
   "source": [
    "pred = model(inputs)\n",
    "result_(pred,targets)"
   ]
  },
  {
   "cell_type": "code",
   "execution_count": null,
   "id": "58827f83-1000-4a59-bc8e-cf6d171992f5",
   "metadata": {},
   "outputs": [],
   "source": []
  }
 ],
 "metadata": {
  "kernelspec": {
   "display_name": "Python 3 (ipykernel)",
   "language": "python",
   "name": "python3"
  },
  "language_info": {
   "codemirror_mode": {
    "name": "ipython",
    "version": 3
   },
   "file_extension": ".py",
   "mimetype": "text/x-python",
   "name": "python",
   "nbconvert_exporter": "python",
   "pygments_lexer": "ipython3",
   "version": "3.12.4"
  }
 },
 "nbformat": 4,
 "nbformat_minor": 5
}
